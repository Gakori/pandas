{
  "nbformat": 4,
  "nbformat_minor": 0,
  "metadata": {
    "colab": {
      "name": "Copy of Multivariate Analysis: Factor Analysis",
      "provenance": [],
      "collapsed_sections": [
        "dV25HdgvCZuj",
        "IqiPtPgDMOWA"
      ],
      "toc_visible": true,
      "include_colab_link": true
    },
    "kernelspec": {
      "name": "python3",
      "display_name": "Python 3"
    }
  },
  "cells": [
    {
      "cell_type": "markdown",
      "metadata": {
        "id": "view-in-github",
        "colab_type": "text"
      },
      "source": [
        "<a href=\"https://colab.research.google.com/github/Gakori/pandas/blob/master/Copy_of_Multivariate_Analysis_Factor_Analysis.ipynb\" target=\"_parent\"><img src=\"https://colab.research.google.com/assets/colab-badge.svg\" alt=\"Open In Colab\"/></a>"
      ]
    },
    {
      "cell_type": "markdown",
      "metadata": {
        "id": "JFkefOSuLSlu",
        "colab_type": "text"
      },
      "source": [
        "<font color=\"green\">*To start working on this notebook, or any other notebook that we will use in the Moringa Data Science Course, we will need to save our own copy of it. We can do this by clicking File > Save a Copy in Drive. We will then be able to make edits to our own copy of this notebook.*</font>"
      ]
    },
    {
      "cell_type": "markdown",
      "metadata": {
        "id": "zntUoyxUN4X1",
        "colab_type": "text"
      },
      "source": [
        "# Multivariate Analysis with Python: Factor Analysis"
      ]
    },
    {
      "cell_type": "markdown",
      "metadata": {
        "id": "5XaygeJMAaC0",
        "colab_type": "text"
      },
      "source": [
        "Factor Analysis (FA) is an exploratory data analysis method used to search influential underlying factors or latent variables from a set of observed variables. It helps in data interpretations by reducing the number of variables. It extracts maximum common variance from all variables and puts them into a common score.\n",
        "\n",
        "Factor analysis is widely utilized in market research, advertising, psychology, finance, and operation research. Market researchers use factor analysis to identify price-sensitive customers, identify brand features that influence consumer choice, and helps in understanding channel selection criteria for the distribution channel."
      ]
    },
    {
      "cell_type": "markdown",
      "metadata": {
        "id": "SdulA-n7AvYO",
        "colab_type": "text"
      },
      "source": [
        "We performing factor analysis, we make the following assumptions:\n",
        "\n",
        "* There are no outliers in data.\n",
        "* Sample size should be greater than the factor.\n",
        "* There should not be perfect multicollinearity.\n",
        "* There should not be homoscedasticity between the variables.\n",
        "\n",
        "\n"
      ]
    },
    {
      "cell_type": "markdown",
      "metadata": {
        "id": "howFDtcrNqTy",
        "colab_type": "text"
      },
      "source": [
        "**Kinds of Factor Analysis**\n",
        "\n",
        "There are broadly two kinds of factor analysis, Exploratory Factor Analysis (EFA) and Confirmatory Factor Analysis  (CFA). EFA is where the variables that are highly correlated to each other are grouped. This group is known as a ‘factor’. Once this factor is created, it looks for another set of variables and groups them, making another factor. The number of factors that are to be created depends on the analyst and N (number of observed variables) number of factors can be created (i.e. one factor for each observed variable). This N number is decided based on a number of factors."
      ]
    },
    {
      "cell_type": "markdown",
      "metadata": {
        "id": "AsVFdD86Nv6K",
        "colab_type": "text"
      },
      "source": [
        "CFA is used when we already have an idea about what the latent variables are and which of the observed variables belong to which latent variable. For example, we have ten variables where five of them seems to be related to education such as – How important formal studies are to you? Are you satisfied with the current method of examination etc while the other set of variables clearly seems to be dealing with sports such as How important sports are, how satisfied are you with the current situation of sports training? etc. Here we can easily guess that there seems to be two latent variables, however, to prove this statistically, we require to perform hypothesis testing and this is where CFA helps."
      ]
    },
    {
      "cell_type": "markdown",
      "metadata": {
        "id": "Xn6K6MsCBN9A",
        "colab_type": "text"
      },
      "source": [
        " **What is a factor?**\n",
        "\n",
        "A factor is a latent variable which describes the association among the number of observed variables. The maximum number of factors are equal to a number of observed variables. Every factor explains a certain variance in observed variables. The factors with the lowest amount of variance were dropped. Factors are also known as latent variables or hidden variables or unobserved variables or Hypothetical variables."
      ]
    },
    {
      "cell_type": "markdown",
      "metadata": {
        "id": "VAghYIi2N7WY",
        "colab_type": "text"
      },
      "source": [
        "**What are the factor loadings?**\n",
        "\n",
        "The factor loading is a matrix which shows the relationship of each variable to the underlying factor. It shows the correlation coefficient for observed variable and factor. It shows the variance explained by the observed variables."
      ]
    },
    {
      "cell_type": "markdown",
      "metadata": {
        "id": "jYAeopw-N9Vv",
        "colab_type": "text"
      },
      "source": [
        "**What is Eigenvalues?**\n",
        "\n",
        "Eigenvalues represent variance explained each factor from the total variance. It is also known as characteristic roots."
      ]
    },
    {
      "cell_type": "markdown",
      "metadata": {
        "id": "zSuRtKNUN_m8",
        "colab_type": "text"
      },
      "source": [
        "**What are Communalities?**\n",
        "\n",
        "Commonalities are the sum of the squared loadings for each variable. It represents the common variance. It ranges from 0-1 and value close to 1 represents more variance."
      ]
    },
    {
      "cell_type": "markdown",
      "metadata": {
        "id": "4mwZNLDiOBbl",
        "colab_type": "text"
      },
      "source": [
        "**What is Factor Rotation?**\n",
        "\n",
        "Rotation is a tool for better interpretation of factor analysis. Rotation can be orthogonal or oblique. It re-distributed the commonalities with a clear pattern of loadings."
      ]
    },
    {
      "cell_type": "markdown",
      "metadata": {
        "id": "kPNPc_tLBi4X",
        "colab_type": "text"
      },
      "source": [
        "**Choosing the Number of Factors**\n",
        "\n",
        "Kaiser criterion is an analytical approach, which is based on the more significant proportion of variance explained by factor will be selected. The eigenvalue is a good criterion for determining the number of factors. Generally, an eigenvalue greater than 1 will be considered as selection criteria for the feature."
      ]
    },
    {
      "cell_type": "markdown",
      "metadata": {
        "id": "dV25HdgvCZuj",
        "colab_type": "text"
      },
      "source": [
        "## Example "
      ]
    },
    {
      "cell_type": "code",
      "metadata": {
        "id": "gXgxm56zNzPJ",
        "colab_type": "code",
        "colab": {}
      },
      "source": [
        "# Example 1\n",
        "# ---\n",
        "# Question 1: Perform Factor Analysis on BFI Dataset below\n",
        "# ---\n",
        "# Dataset url = http://bit.ly/BFI-Dataset\n",
        "# Dataste info: http://bit.ly/BFI-Dataset-Info\n",
        "# ---\n",
        "#"
      ],
      "execution_count": 1,
      "outputs": []
    },
    {
      "cell_type": "code",
      "metadata": {
        "id": "ddNMDakSDCoI",
        "colab_type": "code",
        "colab": {}
      },
      "source": [
        "# Step 1: Loading our Dataset\n",
        "# \n",
        "import pandas as pd\n",
        "import numpy as np\n",
        "import matplotlib.pyplot as plt\n",
        "import seaborn as sns\n",
        "\n",
        "df= pd.read_csv(\"http://bit.ly/BFI-Dataset\")"
      ],
      "execution_count": 4,
      "outputs": []
    },
    {
      "cell_type": "code",
      "metadata": {
        "id": "HDFb9KfRDvBi",
        "colab_type": "code",
        "colab": {
          "base_uri": "https://localhost:8080/",
          "height": 85
        },
        "outputId": "d68fdcbe-c20a-4728-d92e-aa9d3a2468ae"
      },
      "source": [
        "# Step 2: Previewing the dataset columns\n",
        "# \n",
        "df.columns"
      ],
      "execution_count": 5,
      "outputs": [
        {
          "output_type": "execute_result",
          "data": {
            "text/plain": [
              "Index(['Unnamed: 0', 'A1', 'A2', 'A3', 'A4', 'A5', 'C1', 'C2', 'C3', 'C4',\n",
              "       'C5', 'E1', 'E2', 'E3', 'E4', 'E5', 'N1', 'N2', 'N3', 'N4', 'N5', 'O1',\n",
              "       'O2', 'O3', 'O4', 'O5', 'gender', 'education', 'age'],\n",
              "      dtype='object')"
            ]
          },
          "metadata": {
            "tags": []
          },
          "execution_count": 5
        }
      ]
    },
    {
      "cell_type": "code",
      "metadata": {
        "id": "6Bj51l4eD7F5",
        "colab_type": "code",
        "colab": {}
      },
      "source": [
        "# Step 3: Dropping unnecessary columns \n",
        "# \n",
        "df.drop(['gender', 'education', 'age'],axis=1,inplace=True)"
      ],
      "execution_count": 6,
      "outputs": []
    },
    {
      "cell_type": "code",
      "metadata": {
        "id": "R_fArahCEGYh",
        "colab_type": "code",
        "colab": {}
      },
      "source": [
        "# Step 4: Dropping missing values rows\n",
        "#\n",
        "df.dropna(inplace=True)"
      ],
      "execution_count": 7,
      "outputs": []
    },
    {
      "cell_type": "code",
      "metadata": {
        "id": "OIYRdV6cEK5D",
        "colab_type": "code",
        "colab": {
          "base_uri": "https://localhost:8080/",
          "height": 578
        },
        "outputId": "973f2b6e-a770-4cda-9087-e1b613d121b2"
      },
      "source": [
        "# Step 6: Checking the datatypes\n",
        "# \n",
        "df.info()"
      ],
      "execution_count": 8,
      "outputs": [
        {
          "output_type": "stream",
          "text": [
            "<class 'pandas.core.frame.DataFrame'>\n",
            "Int64Index: 2436 entries, 0 to 2799\n",
            "Data columns (total 26 columns):\n",
            " #   Column      Non-Null Count  Dtype  \n",
            "---  ------      --------------  -----  \n",
            " 0   Unnamed: 0  2436 non-null   int64  \n",
            " 1   A1          2436 non-null   float64\n",
            " 2   A2          2436 non-null   float64\n",
            " 3   A3          2436 non-null   float64\n",
            " 4   A4          2436 non-null   float64\n",
            " 5   A5          2436 non-null   float64\n",
            " 6   C1          2436 non-null   float64\n",
            " 7   C2          2436 non-null   float64\n",
            " 8   C3          2436 non-null   float64\n",
            " 9   C4          2436 non-null   float64\n",
            " 10  C5          2436 non-null   float64\n",
            " 11  E1          2436 non-null   float64\n",
            " 12  E2          2436 non-null   float64\n",
            " 13  E3          2436 non-null   float64\n",
            " 14  E4          2436 non-null   float64\n",
            " 15  E5          2436 non-null   float64\n",
            " 16  N1          2436 non-null   float64\n",
            " 17  N2          2436 non-null   float64\n",
            " 18  N3          2436 non-null   float64\n",
            " 19  N4          2436 non-null   float64\n",
            " 20  N5          2436 non-null   float64\n",
            " 21  O1          2436 non-null   float64\n",
            " 22  O2          2436 non-null   int64  \n",
            " 23  O3          2436 non-null   float64\n",
            " 24  O4          2436 non-null   float64\n",
            " 25  O5          2436 non-null   float64\n",
            "dtypes: float64(24), int64(2)\n",
            "memory usage: 513.8 KB\n"
          ],
          "name": "stdout"
        }
      ]
    },
    {
      "cell_type": "code",
      "metadata": {
        "id": "oLGbmXTfERpT",
        "colab_type": "code",
        "colab": {
          "base_uri": "https://localhost:8080/",
          "height": 241
        },
        "outputId": "a79a7df7-5161-438b-e829-541cd7b04b98"
      },
      "source": [
        "# Step 7: Previewing our dataset\n",
        "# \n",
        "df.head()"
      ],
      "execution_count": 12,
      "outputs": [
        {
          "output_type": "execute_result",
          "data": {
            "text/html": [
              "<div>\n",
              "<style scoped>\n",
              "    .dataframe tbody tr th:only-of-type {\n",
              "        vertical-align: middle;\n",
              "    }\n",
              "\n",
              "    .dataframe tbody tr th {\n",
              "        vertical-align: top;\n",
              "    }\n",
              "\n",
              "    .dataframe thead th {\n",
              "        text-align: right;\n",
              "    }\n",
              "</style>\n",
              "<table border=\"1\" class=\"dataframe\">\n",
              "  <thead>\n",
              "    <tr style=\"text-align: right;\">\n",
              "      <th></th>\n",
              "      <th>Unnamed: 0</th>\n",
              "      <th>A1</th>\n",
              "      <th>A2</th>\n",
              "      <th>A3</th>\n",
              "      <th>A4</th>\n",
              "      <th>A5</th>\n",
              "      <th>C1</th>\n",
              "      <th>C2</th>\n",
              "      <th>C3</th>\n",
              "      <th>C4</th>\n",
              "      <th>C5</th>\n",
              "      <th>E1</th>\n",
              "      <th>E2</th>\n",
              "      <th>E3</th>\n",
              "      <th>E4</th>\n",
              "      <th>E5</th>\n",
              "      <th>N1</th>\n",
              "      <th>N2</th>\n",
              "      <th>N3</th>\n",
              "      <th>N4</th>\n",
              "      <th>N5</th>\n",
              "      <th>O1</th>\n",
              "      <th>O2</th>\n",
              "      <th>O3</th>\n",
              "      <th>O4</th>\n",
              "      <th>O5</th>\n",
              "    </tr>\n",
              "  </thead>\n",
              "  <tbody>\n",
              "    <tr>\n",
              "      <th>0</th>\n",
              "      <td>61617</td>\n",
              "      <td>2.0</td>\n",
              "      <td>4.0</td>\n",
              "      <td>3.0</td>\n",
              "      <td>4.0</td>\n",
              "      <td>4.0</td>\n",
              "      <td>2.0</td>\n",
              "      <td>3.0</td>\n",
              "      <td>3.0</td>\n",
              "      <td>4.0</td>\n",
              "      <td>4.0</td>\n",
              "      <td>3.0</td>\n",
              "      <td>3.0</td>\n",
              "      <td>3.0</td>\n",
              "      <td>4.0</td>\n",
              "      <td>4.0</td>\n",
              "      <td>3.0</td>\n",
              "      <td>4.0</td>\n",
              "      <td>2.0</td>\n",
              "      <td>2.0</td>\n",
              "      <td>3.0</td>\n",
              "      <td>3.0</td>\n",
              "      <td>6</td>\n",
              "      <td>3.0</td>\n",
              "      <td>4.0</td>\n",
              "      <td>3.0</td>\n",
              "    </tr>\n",
              "    <tr>\n",
              "      <th>1</th>\n",
              "      <td>61618</td>\n",
              "      <td>2.0</td>\n",
              "      <td>4.0</td>\n",
              "      <td>5.0</td>\n",
              "      <td>2.0</td>\n",
              "      <td>5.0</td>\n",
              "      <td>5.0</td>\n",
              "      <td>4.0</td>\n",
              "      <td>4.0</td>\n",
              "      <td>3.0</td>\n",
              "      <td>4.0</td>\n",
              "      <td>1.0</td>\n",
              "      <td>1.0</td>\n",
              "      <td>6.0</td>\n",
              "      <td>4.0</td>\n",
              "      <td>3.0</td>\n",
              "      <td>3.0</td>\n",
              "      <td>3.0</td>\n",
              "      <td>3.0</td>\n",
              "      <td>5.0</td>\n",
              "      <td>5.0</td>\n",
              "      <td>4.0</td>\n",
              "      <td>2</td>\n",
              "      <td>4.0</td>\n",
              "      <td>3.0</td>\n",
              "      <td>3.0</td>\n",
              "    </tr>\n",
              "    <tr>\n",
              "      <th>2</th>\n",
              "      <td>61620</td>\n",
              "      <td>5.0</td>\n",
              "      <td>4.0</td>\n",
              "      <td>5.0</td>\n",
              "      <td>4.0</td>\n",
              "      <td>4.0</td>\n",
              "      <td>4.0</td>\n",
              "      <td>5.0</td>\n",
              "      <td>4.0</td>\n",
              "      <td>2.0</td>\n",
              "      <td>5.0</td>\n",
              "      <td>2.0</td>\n",
              "      <td>4.0</td>\n",
              "      <td>4.0</td>\n",
              "      <td>4.0</td>\n",
              "      <td>5.0</td>\n",
              "      <td>4.0</td>\n",
              "      <td>5.0</td>\n",
              "      <td>4.0</td>\n",
              "      <td>2.0</td>\n",
              "      <td>3.0</td>\n",
              "      <td>4.0</td>\n",
              "      <td>2</td>\n",
              "      <td>5.0</td>\n",
              "      <td>5.0</td>\n",
              "      <td>2.0</td>\n",
              "    </tr>\n",
              "    <tr>\n",
              "      <th>3</th>\n",
              "      <td>61621</td>\n",
              "      <td>4.0</td>\n",
              "      <td>4.0</td>\n",
              "      <td>6.0</td>\n",
              "      <td>5.0</td>\n",
              "      <td>5.0</td>\n",
              "      <td>4.0</td>\n",
              "      <td>4.0</td>\n",
              "      <td>3.0</td>\n",
              "      <td>5.0</td>\n",
              "      <td>5.0</td>\n",
              "      <td>5.0</td>\n",
              "      <td>3.0</td>\n",
              "      <td>4.0</td>\n",
              "      <td>4.0</td>\n",
              "      <td>4.0</td>\n",
              "      <td>2.0</td>\n",
              "      <td>5.0</td>\n",
              "      <td>2.0</td>\n",
              "      <td>4.0</td>\n",
              "      <td>1.0</td>\n",
              "      <td>3.0</td>\n",
              "      <td>3</td>\n",
              "      <td>4.0</td>\n",
              "      <td>3.0</td>\n",
              "      <td>5.0</td>\n",
              "    </tr>\n",
              "    <tr>\n",
              "      <th>4</th>\n",
              "      <td>61622</td>\n",
              "      <td>2.0</td>\n",
              "      <td>3.0</td>\n",
              "      <td>3.0</td>\n",
              "      <td>4.0</td>\n",
              "      <td>5.0</td>\n",
              "      <td>4.0</td>\n",
              "      <td>4.0</td>\n",
              "      <td>5.0</td>\n",
              "      <td>3.0</td>\n",
              "      <td>2.0</td>\n",
              "      <td>2.0</td>\n",
              "      <td>2.0</td>\n",
              "      <td>5.0</td>\n",
              "      <td>4.0</td>\n",
              "      <td>5.0</td>\n",
              "      <td>2.0</td>\n",
              "      <td>3.0</td>\n",
              "      <td>4.0</td>\n",
              "      <td>4.0</td>\n",
              "      <td>3.0</td>\n",
              "      <td>3.0</td>\n",
              "      <td>3</td>\n",
              "      <td>4.0</td>\n",
              "      <td>3.0</td>\n",
              "      <td>3.0</td>\n",
              "    </tr>\n",
              "  </tbody>\n",
              "</table>\n",
              "</div>"
            ],
            "text/plain": [
              "   Unnamed: 0   A1   A2   A3   A4   A5   C1  ...   N4   N5   O1  O2   O3   O4   O5\n",
              "0       61617  2.0  4.0  3.0  4.0  4.0  2.0  ...  2.0  3.0  3.0   6  3.0  4.0  3.0\n",
              "1       61618  2.0  4.0  5.0  2.0  5.0  5.0  ...  5.0  5.0  4.0   2  4.0  3.0  3.0\n",
              "2       61620  5.0  4.0  5.0  4.0  4.0  4.0  ...  2.0  3.0  4.0   2  5.0  5.0  2.0\n",
              "3       61621  4.0  4.0  6.0  5.0  5.0  4.0  ...  4.0  1.0  3.0   3  4.0  3.0  5.0\n",
              "4       61622  2.0  3.0  3.0  4.0  5.0  4.0  ...  4.0  3.0  3.0   3  4.0  3.0  3.0\n",
              "\n",
              "[5 rows x 26 columns]"
            ]
          },
          "metadata": {
            "tags": []
          },
          "execution_count": 12
        }
      ]
    },
    {
      "cell_type": "code",
      "metadata": {
        "id": "DW-sLapfHOzo",
        "colab_type": "code",
        "colab": {
          "base_uri": "https://localhost:8080/",
          "height": 173
        },
        "outputId": "bd8635a8-9a51-413b-d796-84d788b2eaba"
      },
      "source": [
        "# Step 8: Adequacy Test\n",
        "# Before we perform factor analysis,weyou need to evaluate the “factorability” of our dataset. \n",
        "# Factorability means \"can we find the factors in the dataset?\". \n",
        "# There are two methods to check the factorability or sampling adequacy:\n",
        "# - Bartlett’s Test\n",
        "# - Kaiser-Meyer-Olkin Test\n",
        "# ---\n",
        "# Bartlett’s test of sphericity checks whether or not the observed variables intercorrelate at all \n",
        "# using the observed correlation matrix against the identity matrix. If the test found statistically insignificant, \n",
        "# we should not employ a factor analysis.\n",
        "# ---\n",
        "\n",
        "# Installing factor analyzer \n",
        "!pip install factor_analyzer==0.2.3\n",
        "\n",
        "from factor_analyzer.factor_analyzer import calculate_bartlett_sphericity\n",
        "\n",
        "chi_square_value,p_value=calculate_bartlett_sphericity(df)\n",
        "chi_square_value, p_value\n",
        "\n",
        "# In Bartlett ’s test, the p-value is 0. The test was statistically significant, \n",
        "# indicating that the observed correlation matrix is not an identity matrix."
      ],
      "execution_count": 13,
      "outputs": [
        {
          "output_type": "stream",
          "text": [
            "Requirement already satisfied: factor_analyzer==0.2.3 in /usr/local/lib/python3.6/dist-packages (0.2.3)\n",
            "Requirement already satisfied: scipy in /usr/local/lib/python3.6/dist-packages (from factor_analyzer==0.2.3) (1.4.1)\n",
            "Requirement already satisfied: pandas in /usr/local/lib/python3.6/dist-packages (from factor_analyzer==0.2.3) (1.0.5)\n",
            "Requirement already satisfied: numpy in /usr/local/lib/python3.6/dist-packages (from factor_analyzer==0.2.3) (1.18.5)\n",
            "Requirement already satisfied: python-dateutil>=2.6.1 in /usr/local/lib/python3.6/dist-packages (from pandas->factor_analyzer==0.2.3) (2.8.1)\n",
            "Requirement already satisfied: pytz>=2017.2 in /usr/local/lib/python3.6/dist-packages (from pandas->factor_analyzer==0.2.3) (2018.9)\n",
            "Requirement already satisfied: six>=1.5 in /usr/local/lib/python3.6/dist-packages (from python-dateutil>=2.6.1->pandas->factor_analyzer==0.2.3) (1.12.0)\n"
          ],
          "name": "stdout"
        },
        {
          "output_type": "execute_result",
          "data": {
            "text/plain": [
              "(18184.306307820552, 0.0)"
            ]
          },
          "metadata": {
            "tags": []
          },
          "execution_count": 13
        }
      ]
    },
    {
      "cell_type": "code",
      "metadata": {
        "id": "CY_-OMt-IBSY",
        "colab_type": "code",
        "colab": {}
      },
      "source": [
        "# Step 9:\n",
        "# Kaiser-Meyer-Olkin (KMO) Test measures the suitability of data for factor analysis. \n",
        "# It determines the adequacy for each observed variable and for the complete model. \n",
        "# KMO estimates the proportion of variance among all the observed variable. \n",
        "# Lower proportion id more suitable for factor analysis. KMO values range between 0 and 1. \n",
        "# Value of KMO less than 0.6 is considered inadequate.\n",
        "# \n",
        "from factor_analyzer.factor_analyzer import calculate_kmo\n",
        "\n",
        "kmo_all,kmo_model=calculate_kmo(df)\n",
        "\n",
        "# The overall KMO for our data is 0.84, which is excellent. \n",
        "# This value indicates that you can proceed with your planned factor analysis."
      ],
      "execution_count": 16,
      "outputs": []
    },
    {
      "cell_type": "code",
      "metadata": {
        "id": "0ROMHcwpINWk",
        "colab_type": "code",
        "colab": {
          "base_uri": "https://localhost:8080/",
          "height": 231
        },
        "outputId": "3bf0f35c-2151-4e5d-c492-95783f6bfc45"
      },
      "source": [
        "# Step 10: Choosing the Number of Factors\n",
        "# For choosing the number of factors, you can use the Kaiser criterion and scree plot. Both are based on eigenvalues.\n",
        "# \n",
        "\n",
        "# Creating factor analysis object and perform factor analysis\n",
        "fa = FactorAnalyzer()\n",
        "fa.analyze(df, 25, rotation=None)\n",
        "\n",
        "# Checking the Eigenvalues\n",
        "ev, v = fa.get_eigenvalues()\n",
        "ev\n",
        "\n",
        "# Here, we can see only for 6-factors eigenvalues are greater than one. \n",
        "# It means we need to choose only 6 factors (or unobserved variables)."
      ],
      "execution_count": 17,
      "outputs": [
        {
          "output_type": "error",
          "ename": "NameError",
          "evalue": "ignored",
          "traceback": [
            "\u001b[0;31m---------------------------------------------------------------------------\u001b[0m",
            "\u001b[0;31mNameError\u001b[0m                                 Traceback (most recent call last)",
            "\u001b[0;32m<ipython-input-17-79048727a163>\u001b[0m in \u001b[0;36m<module>\u001b[0;34m()\u001b[0m\n\u001b[1;32m      4\u001b[0m \u001b[0;34m\u001b[0m\u001b[0m\n\u001b[1;32m      5\u001b[0m \u001b[0;31m# Creating factor analysis object and perform factor analysis\u001b[0m\u001b[0;34m\u001b[0m\u001b[0;34m\u001b[0m\u001b[0;34m\u001b[0m\u001b[0m\n\u001b[0;32m----> 6\u001b[0;31m \u001b[0mfa\u001b[0m \u001b[0;34m=\u001b[0m \u001b[0mFactorAnalyzer\u001b[0m\u001b[0;34m(\u001b[0m\u001b[0;34m)\u001b[0m\u001b[0;34m\u001b[0m\u001b[0;34m\u001b[0m\u001b[0m\n\u001b[0m\u001b[1;32m      7\u001b[0m \u001b[0mfa\u001b[0m\u001b[0;34m.\u001b[0m\u001b[0manalyze\u001b[0m\u001b[0;34m(\u001b[0m\u001b[0mdf\u001b[0m\u001b[0;34m,\u001b[0m \u001b[0;36m25\u001b[0m\u001b[0;34m,\u001b[0m \u001b[0mrotation\u001b[0m\u001b[0;34m=\u001b[0m\u001b[0;32mNone\u001b[0m\u001b[0;34m)\u001b[0m\u001b[0;34m\u001b[0m\u001b[0;34m\u001b[0m\u001b[0m\n\u001b[1;32m      8\u001b[0m \u001b[0;34m\u001b[0m\u001b[0m\n",
            "\u001b[0;31mNameError\u001b[0m: name 'FactorAnalyzer' is not defined"
          ]
        }
      ]
    },
    {
      "cell_type": "code",
      "metadata": {
        "id": "F8G2P3XCJ8oY",
        "colab_type": "code",
        "colab": {}
      },
      "source": [
        "# Step 11: \n",
        "# The scree plot method draws a straight line for each factor and its eigenvalues. \n",
        "# Number eigenvalues greater than one considered as the number of factors.\n",
        "\n",
        "# Creating a scree plot using matplotlib\n",
        "#\n",
        "plt.scatter(range(1,df.shape[1]+1),ev)\n",
        "plt.plot(range(1,df.shape[1]+1),ev)\n",
        "plt.title('Scree Plot')\n",
        "plt.xlabel('Factors')\n",
        "plt.ylabel('Eigenvalue')\n",
        "plt.grid()\n",
        "plt.show()"
      ],
      "execution_count": null,
      "outputs": []
    },
    {
      "cell_type": "code",
      "metadata": {
        "id": "JHuRwmCvKPwV",
        "colab_type": "code",
        "colab": {}
      },
      "source": [
        "# Step 12: Performing Factor Analysis\n",
        "# Creating factor analysis object and perform factor analysis\n",
        "#\n",
        "fa = FactorAnalyzer()\n",
        "fa.analyze(df, 6, rotation=\"varimax\")\n",
        "fa.loadings\n",
        "\n",
        "# We will note that\n",
        "# Factor 1 has high factor loadings for E1,E2,E3,E4, and E5 (Extraversion)\n",
        "# Factor 2 has high factor loadings for N1,N2,N3,N4, and N5 (Neuroticism)\n",
        "# Factor 3 has high factor loadings for C1,C2,C3,C4, and C5 (Conscientiousness)\n",
        "# Factor 4 has high factor loadings for O1,O2,O3,O4, and O5 (Opennness)\n",
        "# Factor 5 has high factor loadings for A1,A2,A3,A4, and A5 (Agreeableness)\n",
        "# Factor 6 has none of the high loagings for any variable and is not easily interpretable. Its good if we take only five factors."
      ],
      "execution_count": null,
      "outputs": []
    },
    {
      "cell_type": "code",
      "metadata": {
        "id": "w0zRMeTVKU0M",
        "colab_type": "code",
        "colab": {}
      },
      "source": [
        "# Step 13: Performing factor analysis for 5 factors\n",
        "# \n",
        "# Create factor analysis object and perform factor analysis using 5 factors\n",
        "fa = FactorAnalyzer()\n",
        "fa.analyze(df, 5, rotation=\"varimax\")\n",
        "fa.loadings"
      ],
      "execution_count": null,
      "outputs": []
    },
    {
      "cell_type": "code",
      "metadata": {
        "id": "6Khz8S7ZKvjX",
        "colab_type": "code",
        "colab": {}
      },
      "source": [
        "# Step 14: Getting variance of each factors\n",
        "# \n",
        "fa.get_factor_variance()\n",
        "\n",
        "# Noting total 42% cumulative Variance explained by the 5 factors."
      ],
      "execution_count": null,
      "outputs": []
    },
    {
      "cell_type": "markdown",
      "metadata": {
        "id": "9HH8kQywMHFr",
        "colab_type": "text"
      },
      "source": [
        "**Pros and Cons of Factor Analysis**\n",
        "\n",
        "Factor analysis explores large datasets and finds interlinked associations. It reduces the observed variables into a few unobserved variables or identifies the groups of inter-related variables, which help the market researchers to compress the market situations and find the hidden relationship among consumer taste, preference, and cultural influence. Also, It helps in improve questionnaire in for future surveys. Factors make for more natural data interpretation.\n",
        "\n",
        "Results of factor analysis are controversial. Its interpretations can be debatable because more than one interpretation can be made of the same data factors. After factor identification and naming of factors requires domain knowledge."
      ]
    },
    {
      "cell_type": "markdown",
      "metadata": {
        "id": "IqiPtPgDMOWA",
        "colab_type": "text"
      },
      "source": [
        "## <font color=\"green\">Challenges</font>"
      ]
    },
    {
      "cell_type": "code",
      "metadata": {
        "id": "tNw05seyMSac",
        "colab_type": "code",
        "colab": {}
      },
      "source": [
        "# Challenge 1\n",
        "# ---\n",
        "# Question: Perform factor analysis on the following dataset\n",
        "# ---\n",
        "# Dataset url = http://bit.ly/ZomatoDataset\n",
        "# ---\n",
        "# \n",
        "OUR CODE GOES HERE"
      ],
      "execution_count": null,
      "outputs": []
    },
    {
      "cell_type": "code",
      "metadata": {
        "id": "XOAcYzrPMTlF",
        "colab_type": "code",
        "colab": {}
      },
      "source": [
        "# Challenge 2\n",
        "# ---\n",
        "# Question: Perform factor analysis on the following dataset\n",
        "# ---\n",
        "# Dataset url = http://bit.ly/FIFADataset\n",
        "# ---\n",
        "#\n",
        "OUR CODE GOES HERE"
      ],
      "execution_count": null,
      "outputs": []
    },
    {
      "cell_type": "code",
      "metadata": {
        "id": "zemji7gpMUmJ",
        "colab_type": "code",
        "colab": {}
      },
      "source": [
        "# Challenge 3\n",
        "# ---\n",
        "# Question: Perform factor analysis on the following dataset\n",
        "# ---\n",
        "# Dataset url = http://bit.ly/StudentsAlcoholGradesDataset\n",
        "# Dataset info = http://bit.ly/StudentsAlcoholGradesDatasetInfo\n",
        "#\n",
        "OUR CODE GOES HERE"
      ],
      "execution_count": null,
      "outputs": []
    }
  ]
}